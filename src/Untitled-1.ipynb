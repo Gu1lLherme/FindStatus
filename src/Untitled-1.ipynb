{
 "cells": [
  {
   "cell_type": "code",
   "execution_count": 9,
   "metadata": {},
   "outputs": [
    {
     "name": "stdout",
     "output_type": "stream",
     "text": [
      "  NOME DO ESTABELECIMENTO                                                  \\\n",
      "0  ATACADÃO DO SUPLEMENTO SE                     ...                        \n",
      "1  LIFECENTER SUPLEMENTOS                        ...                        \n",
      "2  FIBRAJU SUPLEMENTOS                           ...                        \n",
      "3  LIFECENTER SUPLEMENTOS                        ...                        \n",
      "4  CENTRAL DO SUPLEMENTO - ARACAJU               ...                        \n",
      "\n",
      "   MED.AVALIACOES                       \\\n",
      "0  4,9                                   \n",
      "1  4,8                                   \n",
      "2  5,0                                   \n",
      "3  4,2                                   \n",
      "4  5,0                                   \n",
      "\n",
      "   QNT.AVALIACOES                            \\\n",
      "0  (43)                                       \n",
      "1  (37)                                       \n",
      "2  (527)                                      \n",
      "3  (13)                                       \n",
      "4  (22)                                       \n",
      "\n",
      "   TIPO DE ESTABELECIMENTO                  CONTATO DO ESTABELECIMENTO   \\\n",
      "0  LOJA DE VITAMINAS E SUPLEMENTOS          (79) 99176-7295               \n",
      "1  LOJA DE VITAMINAS E SUPLEMENTOS          (79) 3023-3986                \n",
      "2  LOJA DE VITAMINAS E SUPLEMENTOS          (79) 99989-0193               \n",
      "3  LOJA DE VITAMINAS E SUPLEMENTOS          (79) 99604-6398               \n",
      "4  LOJA DE VITAMINAS E SUPLEMENTOS          (79) 99860-9393               \n",
      "\n",
      "  ENDERECO COMPLETO                                                                                                                                                                                                    \\\n",
      "0  AV HERMES FONTES, 96 B - SUÍÇA, ARACAJU - SE, ...                                                                                                                                                                    \n",
      "1  R ESTANCIA, 646 - CENTRO, ARACAJU - SE, 49010-...                                                                                                                                                                    \n",
      "2  R LUIZ CARLOS DE AGUIAR MACHADO, 53A - JABOTIA...                                                                                                                                                                    \n",
      "3  AV PADRE NESTOR SAMPAIO, 749 - LUZIA, ARACAJU ...                                                                                                                                                                    \n",
      "4  AV MURILO DANTAS, 06 - FAROLÂNDIA, ARACAJU - S...                                                                                                                                                                    \n",
      "\n",
      "  LOGRADOURO                                                                                                                                                       \\\n",
      "0  AV HERMES FONTES                              ...                                                                                                                \n",
      "1  R ESTANCIA                                    ...                                                                                                                \n",
      "2  R LUIZ CARLOS DE AGUIAR MACHADO               ...                                                                                                                \n",
      "3  AV PADRE NESTOR SAMPAIO                       ...                                                                                                                \n",
      "4  AV MURILO DANTAS                              ...                                                                                                                \n",
      "\n",
      "   NUMERO    BAIRRO                        CEP  \n",
      "0  96        SUÍÇA                    49052000  \n",
      "1  646       CENTRO                   49010180  \n",
      "2  53A       JABOTIANA                49095480  \n",
      "3  749       LUZIA                    49045970  \n",
      "4  06        FAROLÂNDIA               49032490  \n"
     ]
    }
   ],
   "source": [
    "import pandas as pd\n",
    "import tratamentoDados as td\n",
    "\n",
    "arquivo = pd.read_csv(\"C:\\\\Users\\\\gesbarreto\\\\Downloads\\\\FindStatus\\\\src\\\\Tabelas\\\\TabelaConsulta\\\\estabelecimentos_suplemento em Aracaju.csv\", sep=\";\" ,on_bad_lines='skip') \n",
    "\n",
    "print(arquivo.head())"
   ]
  },
  {
   "cell_type": "code",
   "execution_count": null,
   "metadata": {},
   "outputs": [
    {
     "name": "stdout",
     "output_type": "stream",
     "text": [
      "                                   ENDERECO COMPLETO  \\\n",
      "0  AV HERMES FONTES, 96 B - SUÍÇA, ARACAJU - SE, ...   \n",
      "1  R ESTANCIA, 646 - CENTRO, ARACAJU - SE, 49010-180   \n",
      "2  R LUIZ CARLOS DE AGUIAR MACHADO, 53A - JABOTIA...   \n",
      "3  AV PADRE NESTOR SAMPAIO, 749 - LUZIA, ARACAJU ...   \n",
      "4  AV MURILO DANTAS, 06 - FAROLÂNDIA, ARACAJU - S...   \n",
      "\n",
      "                        LOGRADOURO NUMERO      BAIRRO         CEP  \n",
      "0                 AV HERMES FONTES     96       SUÍÇA  49052000.0  \n",
      "1                       R ESTANCIA    646      CENTRO  49010180.0  \n",
      "2  R LUIZ CARLOS DE AGUIAR MACHADO    53A   JABOTIANA  49095480.0  \n",
      "3          AV PADRE NESTOR SAMPAIO    749       LUZIA  49045970.0  \n",
      "4                 AV MURILO DANTAS     06  FAROLÂNDIA  49032490.0  \n"
     ]
    }
   ],
   "source": [
    "print(arquivo[[\"ENDERECO COMPLETO\", \"LOGRADOURO\", \"NUMERO\", \"BAIRRO\", \"CEP\"]].head())"
   ]
  },
  {
   "cell_type": "code",
   "execution_count": null,
   "metadata": {},
   "outputs": [
    {
     "ename": "NameError",
     "evalue": "name 'arquivo' is not defined",
     "output_type": "error",
     "traceback": [
      "\u001b[1;31m---------------------------------------------------------------------------\u001b[0m",
      "\u001b[1;31mNameError\u001b[0m                                 Traceback (most recent call last)",
      "Cell \u001b[1;32mIn[3], line 1\u001b[0m\n\u001b[1;32m----> 1\u001b[0m td\u001b[38;5;241m.\u001b[39mextrair_endereco(\u001b[43marquivo\u001b[49m, \u001b[38;5;124m\"\u001b[39m\u001b[38;5;124mENDERECO COMPLETO\u001b[39m\u001b[38;5;124m\"\u001b[39m)\n\u001b[0;32m      3\u001b[0m \u001b[38;5;28mprint\u001b[39m(arquivo\u001b[38;5;241m.\u001b[39mhead())\n",
      "\u001b[1;31mNameError\u001b[0m: name 'arquivo' is not defined"
     ]
    }
   ],
   "source": [
    "td.extrair_endereco(arquivo, \"ENDERECO COMPLETO\")\n",
    "\n",
    "print(arquivo.head())"
   ]
  }
 ],
 "metadata": {
  "kernelspec": {
   "display_name": ".venv",
   "language": "python",
   "name": "python3"
  },
  "language_info": {
   "codemirror_mode": {
    "name": "ipython",
    "version": 3
   },
   "file_extension": ".py",
   "mimetype": "text/x-python",
   "name": "python",
   "nbconvert_exporter": "python",
   "pygments_lexer": "ipython3",
   "version": "3.12.2"
  }
 },
 "nbformat": 4,
 "nbformat_minor": 2
}
